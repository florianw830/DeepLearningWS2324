{
 "cells": [
  {
   "cell_type": "markdown",
   "metadata": {},
   "source": [
    "PyGame Snake"
   ]
  },
  {
   "cell_type": "code",
   "execution_count": 3,
   "metadata": {},
   "outputs": [
    {
     "name": "stdout",
     "output_type": "stream",
     "text": [
      "Collecting pygame\n",
      "  Downloading pygame-2.5.2-cp39-cp39-win_amd64.whl (10.8 MB)\n",
      "Installing collected packages: pygame\n",
      "Successfully installed pygame-2.5.2\n",
      "Note: you may need to restart the kernel to use updated packages.\n"
     ]
    },
    {
     "name": "stderr",
     "output_type": "stream",
     "text": [
      "WARNING: You are using pip version 21.1.1; however, version 23.3.2 is available.\n",
      "You should consider upgrading via the 'c:\\data\\HiDrive\\Data\\uni\\dl\\code\\ml_pygame\\Scripts\\python.exe -m pip install --upgrade pip' command.\n"
     ]
    }
   ],
   "source": [
    "pip install pygame"
   ]
  },
  {
   "cell_type": "code",
   "execution_count": 1,
   "metadata": {},
   "outputs": [
    {
     "name": "stdout",
     "output_type": "stream",
     "text": [
      "14.89966442575134\n"
     ]
    }
   ],
   "source": [
    "import math\n",
    "import random as rnd\n",
    "print(math.sqrt(222))"
   ]
  },
  {
   "cell_type": "code",
   "execution_count": 1,
   "metadata": {},
   "outputs": [
    {
     "name": "stdout",
     "output_type": "stream",
     "text": [
      "[1, 2]\n"
     ]
    }
   ],
   "source": []
  },
  {
   "cell_type": "code",
   "execution_count": 7,
   "metadata": {},
   "outputs": [],
   "source": [
    "#https://www.pygame.org/docs/\n",
    "# Example file showing a circle moving on screen\n",
    "import pygame\n",
    "\n",
    "# pygame setup\n",
    "pygame.init()\n",
    "screen = pygame.display.set_mode((1280, 720))\n",
    "clock = pygame.time.Clock()\n",
    "running = True\n",
    "dt = 0\n",
    "\n",
    "player_pos = pygame.Vector2(screen.get_width() / 2, screen.get_height() / 2)\n",
    "tails=[]\n",
    "player_dest_y = 100\n",
    "player_dest_x = 0\n",
    "random_obj = pygame.Vector2(screen.get_width() / 4, screen.get_height() / 4)\n",
    "while running:\n",
    "    \n",
    "    # poll for events\n",
    "    # pygame.QUIT event means the user clicked X to close your window\n",
    "    for event in pygame.event.get():\n",
    "        if event.type == pygame.QUIT:\n",
    "            running = False\n",
    "    dst = math.sqrt( (player_pos.y-random_obj.y) ** 2 + (player_pos.x-random_obj.x) ** 2 )\n",
    "    if dst < 80:\n",
    "        rnd.randint(0,screen.get_width())\n",
    "        random_obj = pygame.Vector2(rnd.randint(0,screen.get_width()), rnd.randint(0,screen.get_height()))   \n",
    "        tails.append(pygame.Vector2(player_pos.y,player_pos.x))\n",
    "    # fill the screen with a color to wipe away anything from last frame\n",
    "    screen.fill(\"purple\")\n",
    "\n",
    "    pygame.draw.circle(screen, \"red\", player_pos, 40)\n",
    "    for t in tails:\n",
    "        pygame.draw.circle(screen, \"red\", t, 40)\n",
    "    pygame.draw.circle(screen, \"blue\", random_obj, 40)\n",
    "\n",
    "    keys = pygame.key.get_pressed()\n",
    "    if keys[pygame.K_w]:\n",
    "        player_dest_y,player_dest_x = -100,0\n",
    "    elif keys[pygame.K_s]:\n",
    "        player_dest_y,player_dest_x = 100,0\n",
    "    elif keys[pygame.K_a]:\n",
    "        player_dest_y,player_dest_x = 0,-100\n",
    "    elif keys[pygame.K_d]:\n",
    "        player_dest_y,player_dest_x = 0,100\n",
    "\n",
    "    player_pos.y += player_dest_y* dt\n",
    "    player_pos.x += player_dest_x * dt    \n",
    "    for t in tails:\n",
    "        t.x += player_dest_x * dt   \n",
    "        t.y += player_dest_y * dt     \n",
    "    #distance = math.sqrt((player_pos.y - random_obj.y) ** 2 + (player_pos.x - random_obj.x) ** 2)\n",
    "    #\n",
    "    # Kollision überprüfen\n",
    "    #if distance <= 40 + 40:\n",
    "    #    print(\"Kollision!\")\n",
    "    # flip() the display to put your work on screen\n",
    "    pygame.display.flip()\n",
    "\n",
    "    # limits FPS to 60\n",
    "    # dt is delta time in seconds since last frame, used for framerate-\n",
    "    # independent physics.\n",
    "    dt = clock.tick(60) /1000\n",
    "\n",
    "pygame.quit()"
   ]
  }
 ],
 "metadata": {
  "kernelspec": {
   "display_name": "ml",
   "language": "python",
   "name": "python3"
  },
  "language_info": {
   "codemirror_mode": {
    "name": "ipython",
    "version": 3
   },
   "file_extension": ".py",
   "mimetype": "text/x-python",
   "name": "python",
   "nbconvert_exporter": "python",
   "pygments_lexer": "ipython3",
   "version": "3.9.5"
  }
 },
 "nbformat": 4,
 "nbformat_minor": 2
}
