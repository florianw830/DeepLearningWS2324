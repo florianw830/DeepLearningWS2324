{
 "cells": [
  {
   "cell_type": "markdown",
   "metadata": {},
   "source": [
    "PyGame Snake"
   ]
  },
  {
   "cell_type": "code",
   "execution_count": 2,
   "metadata": {},
   "outputs": [
    {
     "name": "stdout",
     "output_type": "stream",
     "text": [
      "pygame 2.5.2 (SDL 2.28.3, Python 3.9.5)\n",
      "Hello from the pygame community. https://www.pygame.org/contribute.html\n"
     ]
    }
   ],
   "source": [
    "import math\n",
    "import random as rnd\n",
    "import pygame\n"
   ]
  },
  {
   "cell_type": "code",
   "execution_count": null,
   "metadata": {},
   "outputs": [],
   "source": []
  },
  {
   "cell_type": "code",
   "execution_count": 11,
   "metadata": {},
   "outputs": [],
   "source": [
    "class Agent:\n",
    "    def __init__(self,pg):\n",
    "        self.pg = pg\n",
    "    def tick(self):\n",
    "        keys = [False]*512\n",
    "        return keys\n",
    "        \n"
   ]
  },
  {
   "cell_type": "code",
   "execution_count": 12,
   "metadata": {},
   "outputs": [],
   "source": [
    "class RandomAgent(Agent): \n",
    "    def tick(self):\n",
    "        keys = [False]*512\n",
    "        if rnd.randint(0,100) <30:\n",
    "            keys[rnd.choice([pygame.K_w,pygame.K_a,pygame.K_s,pygame.K_d])] = True\n",
    "        return keys\n",
    "    \n",
    "            \n"
   ]
  },
  {
   "cell_type": "code",
   "execution_count": 30,
   "metadata": {},
   "outputs": [],
   "source": [
    "#https://www.pygame.org/docs/\n",
    "# Example file showing a circle moving on screen\n",
    "\n",
    "\n",
    "# pygame setup\n",
    "pygame.init()\n",
    "agt = RandomAgent(pygame)\n",
    "screen = pygame.display.set_mode((1280, 720))\n",
    "clock = pygame.time.Clock()\n",
    "running = True\n",
    "agent_game = False\n",
    "dt = 0\n",
    "\n",
    "pygame.font.init() # you have to call this at the start, \n",
    "                   # if you want to use this module.\n",
    "my_font = pygame.font.SysFont('Arial', 30)\n",
    "\n",
    "player_pos = pygame.Vector2(screen.get_width() / 2, screen.get_height() / 2)\n",
    "tails=[]\n",
    "tail_length =1\n",
    "player_dest_y = 100\n",
    "player_dest_x = 0\n",
    "points =0\n",
    "ct=0\n",
    "random_obj = pygame.Vector2(screen.get_width() / 4, screen.get_height() / 4)\n",
    "text_surface = my_font.render(f'Points {points}', False, (0, 0, 0))\n",
    "\n",
    "while running:\n",
    "    screen.blit(text_surface, (0,0))\n",
    "    # poll for events\n",
    "    # pygame.QUIT event means the user clicked X to close your window\n",
    "    for event in pygame.event.get():\n",
    "        if event.type == pygame.QUIT:\n",
    "            running = False\n",
    "    \n",
    "    dst = math.sqrt( (player_pos.y-random_obj.y) ** 2 + (player_pos.x-random_obj.x) ** 2 )\n",
    "    if dst < 80:\n",
    "        rnd.randint(0,screen.get_width())\n",
    "        random_obj = pygame.Vector2(rnd.randint(0,screen.get_width()), rnd.randint(0,screen.get_height()))   \n",
    "        tail_length+=1\n",
    "        points+=1\n",
    "        text_surface = my_font.render(f'Points {points}', False, (0, 0, 0))\n",
    "\n",
    "    if (screen.get_width() <= player_pos.x or screen.get_height() <= player_pos.y \n",
    "        or  player_pos.x <=0 or player_pos.y <=0) :\n",
    "        break\n",
    "    if player_pos in tails:\n",
    "        break\n",
    "\n",
    "    screen.fill(\"purple\")\n",
    "\n",
    "    pygame.draw.circle(screen, \"red\", player_pos, 40)\n",
    "    for t in tails:\n",
    "        pygame.draw.circle(screen, \"red\", t, 40)\n",
    "    pygame.draw.circle(screen, \"blue\", random_obj, 40)\n",
    "\n",
    "    \n",
    "    if(agent_game):\n",
    "        keys = agt.tick()    \n",
    "    else:\n",
    "        keys = pygame.key.get_pressed()\n",
    "    \n",
    "    if keys[pygame.K_w]:\n",
    "        player_dest_y,player_dest_x = -100,0\n",
    "    elif keys[pygame.K_s]:\n",
    "        player_dest_y,player_dest_x = 100,0\n",
    "    elif keys[pygame.K_a]:\n",
    "        player_dest_y,player_dest_x = 0,-100\n",
    "    elif keys[pygame.K_d]:\n",
    "        player_dest_y,player_dest_x = 0,100\n",
    "\n",
    "    ct+=1\n",
    "    if ct%30 == 0:\n",
    "        tails.append(player_pos.copy())\n",
    "        ct=0\n",
    "\n",
    "    if len(tails) > tail_length:\n",
    "        tails = tails[-tail_length:]\n",
    "    player_pos.y += player_dest_y* dt\n",
    "    player_pos.x += player_dest_x * dt    \n",
    "  \n",
    "    pygame.display.flip()\n",
    "\n",
    "    # limits FPS to 60\n",
    "    # dt is delta time in seconds since last frame, used for framerate-\n",
    "    # independent physics.\n",
    "    dt = clock.tick(60) /1000\n",
    "\n",
    "pygame.quit()"
   ]
  }
 ],
 "metadata": {
  "kernelspec": {
   "display_name": "ml",
   "language": "python",
   "name": "python3"
  },
  "language_info": {
   "codemirror_mode": {
    "name": "ipython",
    "version": 3
   },
   "file_extension": ".py",
   "mimetype": "text/x-python",
   "name": "python",
   "nbconvert_exporter": "python",
   "pygments_lexer": "ipython3",
   "version": "3.9.5"
  }
 },
 "nbformat": 4,
 "nbformat_minor": 2
}
